{
 "cells": [
  {
   "cell_type": "markdown",
   "metadata": {},
   "source": [
    "# Programming basic assignment-4"
   ]
  },
  {
   "cell_type": "markdown",
   "metadata": {},
   "source": [
    "#### 1. Write a Python Program to Find the Factorial of a Number?\n"
   ]
  },
  {
   "cell_type": "code",
   "execution_count": 1,
   "metadata": {},
   "outputs": [
    {
     "name": "stdout",
     "output_type": "stream",
     "text": [
      "Enter a number: 5\n",
      "The factorial of 5 is 120\n"
     ]
    }
   ],
   "source": [
    "def facto():\n",
    "    num = int(input(\"Enter a number: \"))  \n",
    "    factorial = 1  \n",
    "    if num < 0:  \n",
    "       print(\"Sorry, factorial does not exist for negative numbers\")  \n",
    "    elif num == 0:  \n",
    "       print(\"The factorial of 0 is 1\")  \n",
    "    else:  \n",
    "       for i in range(1,num + 1):  \n",
    "           factorial = factorial*i  \n",
    "       print(\"The factorial of\",num,\"is\",factorial)\n",
    "    \n",
    "facto()    "
   ]
  },
  {
   "cell_type": "markdown",
   "metadata": {},
   "source": [
    "#### 2.Write a Python Program to Display the multiplication Table?"
   ]
  },
  {
   "cell_type": "code",
   "execution_count": 2,
   "metadata": {},
   "outputs": [],
   "source": [
    "def multiplication(a ,b):\n",
    "    \"\"\"\n",
    "    this function takes two input - a , b\n",
    "    a is the table number\n",
    "    b is the range no, upto what the number(a) should have to be multiplies \n",
    "    and form a table.\n",
    "    example:\n",
    "    multiplication(3,10)\n",
    "    here the table of 3 will be going upto 10 times of the number 3.\n",
    "    \n",
    "    \"\"\"\n",
    "    try:\n",
    "        print(\"**Table of\", a)\n",
    "        for i in range(1, b+1):\n",
    "            print(a, \"*\", i, \"=\",a*i)\n",
    "    except Exception as e:\n",
    "        print(e)"
   ]
  },
  {
   "cell_type": "code",
   "execution_count": 3,
   "metadata": {},
   "outputs": [
    {
     "name": "stdout",
     "output_type": "stream",
     "text": [
      "**Table of 3\n",
      "3 * 1 = 3\n",
      "3 * 2 = 6\n",
      "3 * 3 = 9\n",
      "3 * 4 = 12\n",
      "3 * 5 = 15\n",
      "3 * 6 = 18\n",
      "3 * 7 = 21\n",
      "3 * 8 = 24\n",
      "3 * 9 = 27\n",
      "3 * 10 = 30\n",
      "**Table of 89\n",
      "89 * 1 = 89\n",
      "89 * 2 = 178\n",
      "89 * 3 = 267\n",
      "89 * 4 = 356\n",
      "89 * 5 = 445\n",
      "89 * 6 = 534\n",
      "89 * 7 = 623\n",
      "89 * 8 = 712\n",
      "89 * 9 = 801\n",
      "89 * 10 = 890\n",
      "**Table of 290\n",
      "290 * 1 = 290\n",
      "290 * 2 = 580\n",
      "290 * 3 = 870\n",
      "290 * 4 = 1160\n",
      "290 * 5 = 1450\n",
      "290 * 6 = 1740\n",
      "290 * 7 = 2030\n",
      "290 * 8 = 2320\n",
      "290 * 9 = 2610\n",
      "290 * 10 = 2900\n",
      "290 * 11 = 3190\n",
      "290 * 12 = 3480\n",
      "290 * 13 = 3770\n",
      "290 * 14 = 4060\n",
      "290 * 15 = 4350\n",
      "290 * 16 = 4640\n",
      "290 * 17 = 4930\n",
      "290 * 18 = 5220\n",
      "290 * 19 = 5510\n",
      "290 * 20 = 5800\n",
      "290 * 21 = 6090\n",
      "290 * 22 = 6380\n",
      "290 * 23 = 6670\n",
      "290 * 24 = 6960\n",
      "290 * 25 = 7250\n",
      "290 * 26 = 7540\n",
      "290 * 27 = 7830\n",
      "290 * 28 = 8120\n",
      "290 * 29 = 8410\n",
      "290 * 30 = 8700\n",
      "290 * 31 = 8990\n",
      "290 * 32 = 9280\n",
      "290 * 33 = 9570\n",
      "290 * 34 = 9860\n",
      "290 * 35 = 10150\n",
      "290 * 36 = 10440\n",
      "290 * 37 = 10730\n",
      "290 * 38 = 11020\n",
      "290 * 39 = 11310\n",
      "290 * 40 = 11600\n",
      "290 * 41 = 11890\n",
      "290 * 42 = 12180\n",
      "290 * 43 = 12470\n",
      "290 * 44 = 12760\n",
      "290 * 45 = 13050\n"
     ]
    }
   ],
   "source": [
    "\n",
    "multiplication(3,10)\n",
    "multiplication(89, 10)\n",
    "multiplication(290, 45)"
   ]
  },
  {
   "cell_type": "markdown",
   "metadata": {},
   "source": [
    "#### 3.Write a Python Program to Print the Fibonacci sequence?\n"
   ]
  },
  {
   "cell_type": "code",
   "execution_count": 4,
   "metadata": {},
   "outputs": [],
   "source": [
    "def fibse():\n",
    "    # Program to display the Fibonacci sequence up to n-th term\n",
    "    n1 = int(input(\"first number: \"))\n",
    "    n2 = int(input(\"second number: \"))\n",
    "    nterms = int(input(\"How many terms? \"))\n",
    "\n",
    "    # first two terms\n",
    "    \n",
    "    count = 0\n",
    "\n",
    "    # check if the number of terms is valid\n",
    "    if nterms <= 0:\n",
    "       print(\"Please enter a positive integer\")\n",
    "    elif nterms == 1:\n",
    "       print(\"Fibonacci sequence upto\",nterms,\":\")\n",
    "       print(n1)\n",
    "    else:\n",
    "       print(\"Fibonacci sequence:\")\n",
    "       while count < nterms:\n",
    "           print(n1)\n",
    "           nth = n1 + n2\n",
    "           # update values\n",
    "           n1 = n2\n",
    "           n2 = nth\n",
    "           count += 1\n"
   ]
  },
  {
   "cell_type": "code",
   "execution_count": 8,
   "metadata": {},
   "outputs": [
    {
     "name": "stdout",
     "output_type": "stream",
     "text": [
      "first number: 0\n",
      "second number: 1\n",
      "How many terms? 10\n",
      "Fibonacci sequence:\n",
      "0\n",
      "1\n",
      "1\n",
      "2\n",
      "3\n",
      "5\n",
      "8\n",
      "13\n",
      "21\n",
      "34\n"
     ]
    }
   ],
   "source": [
    "fibse()"
   ]
  },
  {
   "cell_type": "markdown",
   "metadata": {},
   "source": [
    "#### 4.Write a Python Program to Check Armstrong Number?\n"
   ]
  },
  {
   "cell_type": "code",
   "execution_count": 9,
   "metadata": {},
   "outputs": [],
   "source": [
    "import ipdb\n",
    "# Python program to check if the number is an Armstrong number or not\n",
    "\n",
    "def arm():\n",
    "    \n",
    "    # take input from the user\n",
    "    num = int(input(\"Enter a number: \"))\n",
    "\n",
    "    # initialize sum\n",
    "    sum = 0\n",
    "\n",
    "    # find the sum of the cube of each digit\n",
    "    temp = num\n",
    "    while temp > 0:\n",
    "       digit = temp % 10\n",
    "       sum += digit ** 3\n",
    "       temp //= 10\n",
    "\n",
    "    # display the result\n",
    "    if num == sum:\n",
    "       print(num,\"is an Armstrong number\")\n",
    "    else:\n",
    "       print(num,\"is not an Armstrong number\")"
   ]
  },
  {
   "cell_type": "code",
   "execution_count": 10,
   "metadata": {},
   "outputs": [
    {
     "name": "stdout",
     "output_type": "stream",
     "text": [
      "Enter a number: 407\n",
      "407 is an Armstrong number\n"
     ]
    }
   ],
   "source": [
    "arm()"
   ]
  },
  {
   "cell_type": "markdown",
   "metadata": {},
   "source": [
    "#### 5. Write a Python Program to Find Armstrong Number in an Interval?"
   ]
  },
  {
   "cell_type": "code",
   "execution_count": 11,
   "metadata": {},
   "outputs": [
    {
     "name": "stdout",
     "output_type": "stream",
     "text": [
      "153\n",
      "370\n",
      "371\n",
      "407\n",
      "1634\n"
     ]
    }
   ],
   "source": [
    "lower = 50\n",
    "upper = 3000\n",
    "\n",
    "for num in range(lower, upper + 1):\n",
    "   order = len(str(num))\n",
    "   sum = 0\n",
    "   temp = num\n",
    "   while temp > 0:\n",
    "       digit = temp % 10\n",
    "       sum += digit ** order\n",
    "       temp //= 10\n",
    "\n",
    "   if num == sum:\n",
    "       print(num)\n",
    "\n"
   ]
  },
  {
   "cell_type": "markdown",
   "metadata": {},
   "source": [
    "#### 6. Write a Python Program to Find the Sum of Natural Numbers?\n"
   ]
  },
  {
   "cell_type": "code",
   "execution_count": 12,
   "metadata": {},
   "outputs": [
    {
     "name": "stdout",
     "output_type": "stream",
     "text": [
      "sum of natural numbers upto: 16\n",
      "The sum is 136\n"
     ]
    }
   ],
   "source": [
    "num = int(input(\"sum of natural numbers upto: \"))\n",
    "if num<0:\n",
    "    print(\"enter a positive number\")\n",
    "else:\n",
    "    sum = 0\n",
    "    while(num>0):\n",
    "        sum +=num\n",
    "        num -= 1\n",
    "    print(\"The sum is\", sum)    "
   ]
  },
  {
   "cell_type": "code",
   "execution_count": null,
   "metadata": {},
   "outputs": [],
   "source": []
  },
  {
   "cell_type": "code",
   "execution_count": null,
   "metadata": {},
   "outputs": [],
   "source": []
  }
 ],
 "metadata": {
  "kernelspec": {
   "display_name": "Python 3",
   "language": "python",
   "name": "python3"
  },
  "language_info": {
   "codemirror_mode": {
    "name": "ipython",
    "version": 3
   },
   "file_extension": ".py",
   "mimetype": "text/x-python",
   "name": "python",
   "nbconvert_exporter": "python",
   "pygments_lexer": "ipython3",
   "version": "3.8.3"
  }
 },
 "nbformat": 4,
 "nbformat_minor": 4
}
