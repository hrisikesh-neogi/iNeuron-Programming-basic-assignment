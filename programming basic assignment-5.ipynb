{
 "cells": [
  {
   "cell_type": "markdown",
   "metadata": {},
   "source": [
    "# PYTHON PROGRAMMING BASIC ASSIGNMENT-5"
   ]
  },
  {
   "cell_type": "markdown",
   "metadata": {},
   "source": [
    "### 1.Write a Python Program to Find LCM?\n"
   ]
  },
  {
   "cell_type": "code",
   "execution_count": 1,
   "metadata": {},
   "outputs": [],
   "source": [
    "def lcm(x, y):  \n",
    "    if x > y:\n",
    "        greater = x  \n",
    "    else:\n",
    "        greater = y  \n",
    "    \n",
    "    while(True):\n",
    "        if((greater % x == 0) and (greater % y == 0)):\n",
    "            lcm = greater  \n",
    "            break  \n",
    "        greater += 1  \n",
    "    return lcm  "
   ]
  },
  {
   "cell_type": "code",
   "execution_count": 2,
   "metadata": {},
   "outputs": [
    {
     "data": {
      "text/plain": [
       "15"
      ]
     },
     "execution_count": 2,
     "metadata": {},
     "output_type": "execute_result"
    }
   ],
   "source": [
    "lcm(5,15)"
   ]
  },
  {
   "cell_type": "markdown",
   "metadata": {},
   "source": [
    "### 2. Write a Python Program to Find HCF?\n"
   ]
  },
  {
   "cell_type": "code",
   "execution_count": 3,
   "metadata": {},
   "outputs": [],
   "source": [
    "def hcf(a,b):\n",
    "    if a<b:\n",
    "        smaller = a\n",
    "    else:\n",
    "        smaller = b\n",
    "        \n",
    "    for i in range (1, smaller+1):\n",
    "        if ((a%i==0) and (b%i==0)):\n",
    "            hcf = i\n",
    "    return hcf"
   ]
  },
  {
   "cell_type": "code",
   "execution_count": 4,
   "metadata": {},
   "outputs": [
    {
     "data": {
      "text/plain": [
       "6"
      ]
     },
     "execution_count": 4,
     "metadata": {},
     "output_type": "execute_result"
    }
   ],
   "source": [
    "hcf(54, 24)"
   ]
  },
  {
   "cell_type": "markdown",
   "metadata": {},
   "source": [
    "### 3. Write a Python Program to Convert Decimal to Binary, Octal and Hexadecimal?\n"
   ]
  },
  {
   "cell_type": "code",
   "execution_count": 5,
   "metadata": {},
   "outputs": [],
   "source": [
    "def conver_dc(num):\n",
    "    if type(num) == int:\n",
    "        print (('The decimal value of {} is:').format(num))\n",
    "        print(bin(num),'in binary')\n",
    "        print(oct(num), 'in octal' )\n",
    "        print(hex(num), 'in hexadecimal')"
   ]
  },
  {
   "cell_type": "code",
   "execution_count": 6,
   "metadata": {},
   "outputs": [
    {
     "name": "stdout",
     "output_type": "stream",
     "text": [
      "The decimal value of 344 is:\n",
      "0b101011000 in binary\n",
      "0o530 in octal\n",
      "0x158 in hexadecimal\n"
     ]
    }
   ],
   "source": [
    "conver_dc(344)"
   ]
  },
  {
   "cell_type": "markdown",
   "metadata": {},
   "source": [
    "### 4. Write a Python Program To Find ASCII value of a character?\n"
   ]
  },
  {
   "cell_type": "code",
   "execution_count": 7,
   "metadata": {},
   "outputs": [],
   "source": [
    "def ascii_val(a):\n",
    "    print ( \"The aschii value of character '\",a,\"'is\", ord(a))"
   ]
  },
  {
   "cell_type": "code",
   "execution_count": 8,
   "metadata": {},
   "outputs": [
    {
     "name": "stdout",
     "output_type": "stream",
     "text": [
      "The aschii value of character ' p 'is 112\n"
     ]
    }
   ],
   "source": [
    "ascii_val('p')"
   ]
  },
  {
   "cell_type": "markdown",
   "metadata": {},
   "source": [
    "### 5. Write a Python Program to Make a Simple Calculator with 4 basic mathematical operations?\n"
   ]
  },
  {
   "cell_type": "code",
   "execution_count": 9,
   "metadata": {},
   "outputs": [],
   "source": [
    "def calculator():\n",
    "    print(\"Select operation:\")\n",
    "    print(\"1: Addition\")\n",
    "    print(\"2: Substraction\")\n",
    "    print(\"3: Multiplication\")\n",
    "    print(\"4: Division\")\n",
    "     \n",
    "    def add(a,b):\n",
    "        return a+b\n",
    "    \n",
    "    def sub(a,b):\n",
    "        return a-b\n",
    "        \n",
    "    def mul(a,b):\n",
    "        return a*b\n",
    "    \n",
    "    def div(a,b):\n",
    "        return a/b\n",
    "        \n",
    "    operation = int(input('enter the operation:'))\n",
    "    if operation in (1,2,3,4):\n",
    "    \n",
    "        num1 = float(input('enter the value-1:'))\n",
    "        num2 = float(input('enter the value-2:'))\n",
    "\n",
    "        #operation if given 1(Add):\n",
    "        if operation == 1:\n",
    "            print( num1 ,'+', num2 ,'=', add(num1, num2))\n",
    "\n",
    "        #operation if given 2(subs):\n",
    "        if operation == 2:\n",
    "            if num1> num2:\n",
    "                a = num1\n",
    "                b = num2\n",
    "                print( a ,'-', b ,'=', sub(a,b))\n",
    "            else:\n",
    "                b = num1\n",
    "                a = num2\n",
    "                print('numbers should be swapped and ordered to larger to smaller no so that it could be substractable')\n",
    "                yes_no = input('do you wanna swap the values? yes/no? -')\n",
    "                if yes_no in ('yes','YES','Yes'):\n",
    "\n",
    "                    print( a ,'-', b ,'=', sub(a,b))\n",
    "                elif yes_no in ('NO','no', 'No'):\n",
    "                    print (b, '-', a, '=', sub(b,a))\n",
    "                    \n",
    "\n",
    "        #operation if given 3(multi):\n",
    "        if operation == 3:\n",
    "            print( num1 ,'*', num2 ,'=', mul(num1,num2))\n",
    "\n",
    "        #operation if given 4(div):\n",
    "        if operation == 4:\n",
    "            if num1> num2:\n",
    "                a = num1\n",
    "                b = num2\n",
    "                print( a ,'-', b ,'=', sub(a,b))\n",
    "            else:\n",
    "                b = num1\n",
    "                a = num2\n",
    "                print('numbers should be swapped and ordered to larger to smaller no so that it could be divisable')\n",
    "                yes_no = input('do you wanna swap the values? yes/no? -')\n",
    "                if yes_no in ('yes','YES','Yes'):\n",
    "\n",
    "                    print( a ,'-', b ,'=', div(a,b))\n",
    "                elif yes_no in ('NO','no', 'No'):\n",
    "                    print (b, '-', a, '=', div(b,a))\n",
    "              \n",
    "    "
   ]
  },
  {
   "cell_type": "code",
   "execution_count": 11,
   "metadata": {},
   "outputs": [
    {
     "name": "stdout",
     "output_type": "stream",
     "text": [
      "Select operation:\n",
      "1: Addition\n",
      "2: Substraction\n",
      "3: Multiplication\n",
      "4: Division\n"
     ]
    },
    {
     "name": "stdin",
     "output_type": "stream",
     "text": [
      "enter the operation: 1\n",
      "enter the value-1: 34\n",
      "enter the value-2: 654\n"
     ]
    },
    {
     "name": "stdout",
     "output_type": "stream",
     "text": [
      "34.0 + 654.0 = 688.0\n"
     ]
    }
   ],
   "source": [
    "#addition testing\n",
    "calculator()"
   ]
  },
  {
   "cell_type": "code",
   "execution_count": 13,
   "metadata": {},
   "outputs": [
    {
     "name": "stdout",
     "output_type": "stream",
     "text": [
      "Select operation:\n",
      "1: Addition\n",
      "2: Substraction\n",
      "3: Multiplication\n",
      "4: Division\n"
     ]
    },
    {
     "name": "stdin",
     "output_type": "stream",
     "text": [
      "enter the operation: 2\n",
      "enter the value-1: 354\n",
      "enter the value-2: 6005\n"
     ]
    },
    {
     "name": "stdout",
     "output_type": "stream",
     "text": [
      "numbers should be swapped and ordered to larger to smaller no so that it could be substractable\n"
     ]
    },
    {
     "name": "stdin",
     "output_type": "stream",
     "text": [
      "do you wanna swap the values? yes/no? - yes\n"
     ]
    },
    {
     "name": "stdout",
     "output_type": "stream",
     "text": [
      "6005.0 - 354.0 = 5651.0\n"
     ]
    }
   ],
   "source": [
    "#substraction testing\n",
    "calculator()"
   ]
  },
  {
   "cell_type": "code",
   "execution_count": 14,
   "metadata": {},
   "outputs": [
    {
     "name": "stdout",
     "output_type": "stream",
     "text": [
      "Select operation:\n",
      "1: Addition\n",
      "2: Substraction\n",
      "3: Multiplication\n",
      "4: Division\n"
     ]
    },
    {
     "name": "stdin",
     "output_type": "stream",
     "text": [
      "enter the operation: 3\n",
      "enter the value-1: 56\n",
      "enter the value-2: 39\n"
     ]
    },
    {
     "name": "stdout",
     "output_type": "stream",
     "text": [
      "56.0 * 39.0 = 2184.0\n"
     ]
    }
   ],
   "source": [
    "#multiplication testing\n",
    "calculator()"
   ]
  },
  {
   "cell_type": "code",
   "execution_count": 16,
   "metadata": {},
   "outputs": [
    {
     "name": "stdout",
     "output_type": "stream",
     "text": [
      "Select operation:\n",
      "1: Addition\n",
      "2: Substraction\n",
      "3: Multiplication\n",
      "4: Division\n"
     ]
    },
    {
     "name": "stdin",
     "output_type": "stream",
     "text": [
      "enter the operation: 4\n",
      "enter the value-1: 654\n",
      "enter the value-2: 9564\n"
     ]
    },
    {
     "name": "stdout",
     "output_type": "stream",
     "text": [
      "numbers should be swapped and ordered to larger to smaller no so that it could be divisable\n"
     ]
    },
    {
     "name": "stdin",
     "output_type": "stream",
     "text": [
      "do you wanna swap the values? yes/no? - yes\n"
     ]
    },
    {
     "name": "stdout",
     "output_type": "stream",
     "text": [
      "9564.0 - 654.0 = 14.623853211009175\n"
     ]
    }
   ],
   "source": [
    "#division testing\n",
    "calculator()"
   ]
  },
  {
   "cell_type": "code",
   "execution_count": null,
   "metadata": {},
   "outputs": [],
   "source": []
  }
 ],
 "metadata": {
  "kernelspec": {
   "display_name": "Python 3",
   "language": "python",
   "name": "python3"
  },
  "language_info": {
   "codemirror_mode": {
    "name": "ipython",
    "version": 3
   },
   "file_extension": ".py",
   "mimetype": "text/x-python",
   "name": "python",
   "nbconvert_exporter": "python",
   "pygments_lexer": "ipython3",
   "version": "3.8.3"
  }
 },
 "nbformat": 4,
 "nbformat_minor": 4
}
