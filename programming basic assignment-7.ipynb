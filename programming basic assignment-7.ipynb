{
 "cells": [
  {
   "cell_type": "markdown",
   "metadata": {},
   "source": [
    "# PYTHON PROGRAMMING BASIC ASSIGNMENT-7"
   ]
  },
  {
   "cell_type": "markdown",
   "metadata": {},
   "source": [
    "### 1. Write a Python Program to find sum of array?\n"
   ]
  },
  {
   "cell_type": "code",
   "execution_count": 1,
   "metadata": {},
   "outputs": [],
   "source": [
    "def sum_array(arr):\n",
    "    \"\"\" assign a list to a variable before calling the function. The function takes a list as a input and returns the sum of the values.\n",
    "    \"\"\"\n",
    "    sum = 0\n",
    "    for i in arr:\n",
    "        sum+=i\n",
    "    print(sum)\n",
    "\n",
    "    \n",
    "    "
   ]
  },
  {
   "cell_type": "code",
   "execution_count": 2,
   "metadata": {},
   "outputs": [
    {
     "name": "stdout",
     "output_type": "stream",
     "text": [
      "95\n"
     ]
    }
   ],
   "source": [
    "arrp = [1,2,3,4,5,6,7,8,9,50]\n",
    "sum_array(arrp)"
   ]
  },
  {
   "cell_type": "markdown",
   "metadata": {},
   "source": [
    "### 2. Write a Python Program to find largest element in an array?\n"
   ]
  },
  {
   "cell_type": "code",
   "execution_count": 3,
   "metadata": {},
   "outputs": [],
   "source": [
    "def maxx(arr):\n",
    "    \"\"\" assign a list in a variable first before calling the function. \n",
    "    This function takes a list as input and returns the largest element in an array.\n",
    "    \"\"\"\n",
    "    \n",
    "    n = len(arr)\n",
    "    max = arr[0]\n",
    "    for i in range(1,n):\n",
    "        if arr[i]> max:\n",
    "            max = arr[i]\n",
    "    return max\n",
    "    "
   ]
  },
  {
   "cell_type": "code",
   "execution_count": 4,
   "metadata": {},
   "outputs": [
    {
     "data": {
      "text/plain": [
       "90"
      ]
     },
     "execution_count": 4,
     "metadata": {},
     "output_type": "execute_result"
    }
   ],
   "source": [
    "a = [3,5,78,90,39,5]\n",
    "maxx(a)"
   ]
  },
  {
   "cell_type": "markdown",
   "metadata": {},
   "source": [
    "### 3. Write a Python Program for array rotation?\n"
   ]
  },
  {
   "cell_type": "code",
   "execution_count": 38,
   "metadata": {},
   "outputs": [
    {
     "data": {
      "text/plain": [
       "[5, 6, 7, 8, 9, 1, 2, 3, 4]"
      ]
     },
     "execution_count": 38,
     "metadata": {},
     "output_type": "execute_result"
    }
   ],
   "source": [
    "#method-1\n",
    "\n",
    "def rotate(l, y=1):\n",
    "    \"\"\" assign a list in a variable first before calling the function. \n",
    "    This function takes a list as input and returns the rotated array.\n",
    "    \"\"\"\n",
    "    if len(l) == 0:\n",
    "            return l\n",
    "    elif len(l)<=3:\n",
    "        y = int(input('n = '))\n",
    "    \n",
    "    elif len(l) > 3:\n",
    "        y = int(len(l)/2)\n",
    " \n",
    "    return l[y:] + l[:y]\n",
    "\n",
    "    \n",
    "    \n",
    "   \n",
    "l = []\n",
    "for i in range (1,10):\n",
    "    l.append(i)\n",
    "\n",
    "rotate(l)       "
   ]
  },
  {
   "cell_type": "code",
   "execution_count": 60,
   "metadata": {},
   "outputs": [
    {
     "name": "stdout",
     "output_type": "stream",
     "text": [
      "[3, 2, 1]\n",
      "[5, 4, 3, 2, 1]\n"
     ]
    }
   ],
   "source": [
    "#method-2\n",
    "\n",
    "def rt(l):\n",
    "    if len(l) == 1:\n",
    "        return l\n",
    "   \n",
    "    elif len(l) > 1:\n",
    "        b = []\n",
    "        a = len(l)\n",
    "        for i in range(0, len(l)):\n",
    "            lenth = l[i]\n",
    "            \n",
    "            b.insert(-i, l[i])\n",
    "        \n",
    "        l.clear()\n",
    "        for i in b:\n",
    "            l.append(i)\n",
    "        \n",
    "        \n",
    "        print(l)\n",
    " \n",
    "    \n",
    "\n",
    " \n",
    "\n",
    "\n",
    "l1 = [1,2,3]\n",
    "rt(l1)\n",
    "\n",
    "l = [1,2,3,4,5]\n",
    "rt(l)"
   ]
  },
  {
   "cell_type": "markdown",
   "metadata": {},
   "source": [
    "### 4. Write a Python Program to Split the array and add the first part to the end?\n"
   ]
  },
  {
   "cell_type": "code",
   "execution_count": 17,
   "metadata": {},
   "outputs": [],
   "source": [
    "def spl_ar(l):\n",
    "    x = len(l)\n",
    "    y = int(input('split the array to index no: '))\n",
    "    b = []\n",
    "    #for i in range(0,x+1):\n",
    "        #a = l[0]\n",
    "    for j in range(0,y+1):\n",
    "        b.append(l[j])\n",
    "        \n",
    "    updated_l = []\n",
    "    for i in l:\n",
    "        if i not in b:\n",
    "            updated_l.append(i)\n",
    "\n",
    "    l.clear()\n",
    "    \n",
    "    for i in updated_l:\n",
    "        l.append(i)\n",
    "        \n",
    "    for i in b:\n",
    "        l.append(i)\n",
    "\n",
    "    \n",
    "        \n",
    "    print(l)\n",
    "            \n",
    "    "
   ]
  },
  {
   "cell_type": "code",
   "execution_count": 21,
   "metadata": {},
   "outputs": [
    {
     "name": "stdin",
     "output_type": "stream",
     "text": [
      "split the array to index no:  2\n"
     ]
    },
    {
     "name": "stdout",
     "output_type": "stream",
     "text": [
      "[4, 5, 6, 1, 2, 3]\n"
     ]
    }
   ],
   "source": [
    "lii = [1,2,3,4,5,6]\n",
    "spl_ar(lii)\n"
   ]
  },
  {
   "cell_type": "markdown",
   "metadata": {},
   "source": [
    "### 5. Write a Python Program to check if given array is Monotonic?\n"
   ]
  },
  {
   "cell_type": "code",
   "execution_count": 28,
   "metadata": {},
   "outputs": [],
   "source": [
    "def isMonotonic(A):\n",
    "\n",
    "    return (all(A[i] <= A[i + 1] for i in range(len(A) - 1)) or\n",
    "            all(A[i] >= A[i + 1] for i in range(len(A) - 1)))"
   ]
  },
  {
   "cell_type": "code",
   "execution_count": 56,
   "metadata": {},
   "outputs": [],
   "source": [
    "lp = [1,2,3,4,5,4,3,2,1]\n",
    "ll = [1,2,3,4,5,7,8,9]"
   ]
  },
  {
   "cell_type": "code",
   "execution_count": 57,
   "metadata": {},
   "outputs": [
    {
     "data": {
      "text/plain": [
       "False"
      ]
     },
     "execution_count": 57,
     "metadata": {},
     "output_type": "execute_result"
    }
   ],
   "source": [
    "isMonotonic(lp)"
   ]
  },
  {
   "cell_type": "code",
   "execution_count": 59,
   "metadata": {},
   "outputs": [
    {
     "data": {
      "text/plain": [
       "True"
      ]
     },
     "execution_count": 59,
     "metadata": {},
     "output_type": "execute_result"
    }
   ],
   "source": [
    "isMonotonic(ll)"
   ]
  }
 ],
 "metadata": {
  "kernelspec": {
   "display_name": "Python 3",
   "language": "python",
   "name": "python3"
  },
  "language_info": {
   "codemirror_mode": {
    "name": "ipython",
    "version": 3
   },
   "file_extension": ".py",
   "mimetype": "text/x-python",
   "name": "python",
   "nbconvert_exporter": "python",
   "pygments_lexer": "ipython3",
   "version": "3.8.3"
  }
 },
 "nbformat": 4,
 "nbformat_minor": 4
}
