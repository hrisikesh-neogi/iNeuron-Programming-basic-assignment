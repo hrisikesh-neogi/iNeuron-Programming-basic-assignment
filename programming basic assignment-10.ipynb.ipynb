{
 "cells": [
  {
   "cell_type": "markdown",
   "metadata": {},
   "source": [
    "# PYTHON PROGRAMMING BASIC ASSIGNMENT-10\n"
   ]
  },
  {
   "cell_type": "markdown",
   "metadata": {},
   "source": [
    "### 1.Write a Python program to find sum of elements in list?\n"
   ]
  },
  {
   "cell_type": "code",
   "execution_count": 8,
   "metadata": {},
   "outputs": [
    {
     "name": "stdout",
     "output_type": "stream",
     "text": [
      "sum of the elements in the list is: 4950\n"
     ]
    }
   ],
   "source": [
    "def sum_of_list(list):\n",
    "    print(\"sum of the elements in the list is:\", sum(list)) \n",
    "\n",
    "list = []\n",
    "for i in range(100):\n",
    "    list.append(i)\n",
    "\n",
    "    \n",
    "sum_of_list(list)\n",
    "    "
   ]
  },
  {
   "cell_type": "markdown",
   "metadata": {},
   "source": [
    "### 2.Write a Python program to  Multiply all numbers in the list?\n"
   ]
  },
  {
   "cell_type": "code",
   "execution_count": 33,
   "metadata": {},
   "outputs": [
    {
     "name": "stdout",
     "output_type": "stream",
     "text": [
      "Number we get after multiplying all numbers in the list is: 13.10\n"
     ]
    }
   ],
   "source": [
    "def mul_list(list):\n",
    "    mul = 1\n",
    "    for i in list:\n",
    "        if type(i)== int or type(i)==float:\n",
    "            if i == 0:\n",
    "                pass\n",
    "            else:\n",
    "                mul = mul * i\n",
    "\n",
    "    print('Number we get after multiplying all numbers in the list is:', \"{:.2f}\".format(mul))\n",
    "\n",
    "\n",
    "mul_null_list = ['bb', 'v', 3.12,2.1, 1,2, True]\n",
    "mul_list(mul_null_list)"
   ]
  },
  {
   "cell_type": "markdown",
   "metadata": {},
   "source": [
    "### 3.Write a Python program to find smallest number in a list?\n"
   ]
  },
  {
   "cell_type": "code",
   "execution_count": 79,
   "metadata": {},
   "outputs": [
    {
     "name": "stdout",
     "output_type": "stream",
     "text": [
      "the smallest number in the list is: 0.6\n"
     ]
    }
   ],
   "source": [
    "def small_num(list):\n",
    "    \n",
    "    for j in range(len(list)):\n",
    "        for i in list:  #popping out the elements those are not integers or floating point numbers\n",
    "            if type(i)== str or type(i) == bool:\n",
    "                list.remove(i)\n",
    "            \n",
    "    list.sort()\n",
    "            \n",
    "    for i in list:\n",
    "        if type(i)== int or type(i)==float:\n",
    "            print('the smallest number in the list is:', i)\n",
    "            break\n",
    "            \n",
    "        else:\n",
    "            pass\n",
    "           \n",
    "mixed_list = ['bb','bbb','hv',False, True, 32.1, 1.1, 0.6,9,3,5,1,2,4]\n",
    "small_num(mixed_list)"
   ]
  },
  {
   "cell_type": "markdown",
   "metadata": {},
   "source": [
    "### 4.Write a Python program to find largest number in a list?\n"
   ]
  },
  {
   "cell_type": "code",
   "execution_count": 78,
   "metadata": {},
   "outputs": [
    {
     "name": "stdout",
     "output_type": "stream",
     "text": [
      "the largest number in the list is: 13.34\n"
     ]
    }
   ],
   "source": [
    "def largest_num(list):\n",
    "    \n",
    "    for j in range(len(list)):\n",
    "        for i in list:  #popping out the elements those are not integers or floating point numbers\n",
    "            if type(i)== str or type(i) == bool:\n",
    "                list.remove(i)\n",
    "            \n",
    "    list.sort()\n",
    "    print('the largest number in the list is:', list[-1])\n",
    "    \n",
    "mixed_list2 = ['bb', 'fv', True, 2.3,4.5,1,2,3,4,10, 13.339,13.330, 13.34]\n",
    "largest_num(mixed_list2)"
   ]
  },
  {
   "cell_type": "markdown",
   "metadata": {},
   "source": [
    "### 5. Write a Python program to find second largest number in a list?\n"
   ]
  },
  {
   "cell_type": "code",
   "execution_count": 82,
   "metadata": {},
   "outputs": [
    {
     "name": "stdout",
     "output_type": "stream",
     "text": [
      "the second largest number in the list is: 14.346\n"
     ]
    }
   ],
   "source": [
    "def second_largest_num(list):\n",
    "    \n",
    "    for j in range(len(list)):\n",
    "        for i in list:  #popping out the elements those are not integers or floating point numbers\n",
    "            if type(i)== str or type(i) == bool:\n",
    "                list.remove(i)\n",
    "            \n",
    "    list.sort()\n",
    "    print('the second largest number in the list is:', list[-2])\n",
    "    \n",
    "mixed_list3 = ['bb', 'fv', True, 2.3,1,3,4,10, 12.356,44.56, 14.346]\n",
    "second_largest_num(mixed_list3)"
   ]
  },
  {
   "cell_type": "markdown",
   "metadata": {},
   "source": [
    "### 6.Write a Python program to find N largest elements from a list?\n"
   ]
  },
  {
   "cell_type": "code",
   "execution_count": 152,
   "metadata": {},
   "outputs": [
    {
     "name": "stdout",
     "output_type": "stream",
     "text": [
      "The 4 largest numbers in the list are: [50, 44.56, 14.346, 12.356]\n"
     ]
    }
   ],
   "source": [
    "def n_largest_elements (list, n):\n",
    "    \"\"\"\n",
    "    parameters:\n",
    "    \n",
    "    list = pass the list\n",
    "    n = numbers of largest elements to be printed\n",
    "    \n",
    "    \"\"\"\n",
    "    \n",
    "    \n",
    "    for j in range(len(list)):\n",
    "        for i in list:  #popping out the elements those are not integers or floating point numbers\n",
    "            if type(i)== str or type(i) == bool:\n",
    "                list.remove(i)\n",
    "            \n",
    "    list.sort(reverse = True)\n",
    "    print('The {} largest numbers in the list are:'.format(n), list[:n])\n",
    "    \n",
    "    \n",
    "    \n",
    "mixed_list4 = ['bb', 'fv', True, 50,2.3,1,12,3,4,10, 12.356,44.56, 14.346]  \n",
    "n_largest_elements(mixed_list4, 4)"
   ]
  },
  {
   "cell_type": "markdown",
   "metadata": {},
   "source": [
    "### 7.Write a Python program to print even numbers in a list?\n"
   ]
  },
  {
   "cell_type": "code",
   "execution_count": 114,
   "metadata": {},
   "outputs": [
    {
     "data": {
      "text/plain": [
       "[0, 2, 4, 6, 8, 10, 12, 14, 16, 18, 20, 22, 24, 26, 28]"
      ]
     },
     "execution_count": 114,
     "metadata": {},
     "output_type": "execute_result"
    }
   ],
   "source": [
    "def even_num(list):\n",
    "    result = []\n",
    "    for i in list:\n",
    "        if type(i)== int:\n",
    "            if i%2==0:\n",
    "                result.append(i)\n",
    "    return result\n",
    "                \n",
    "    \n",
    "    \n",
    "    \n",
    "mixed_list5 = [ i for i in range(30)]\n",
    "even_num(mixed_list5)"
   ]
  },
  {
   "cell_type": "markdown",
   "metadata": {},
   "source": [
    "### 8.Write a Python program to print odd numbers in a List?\n"
   ]
  },
  {
   "cell_type": "code",
   "execution_count": 115,
   "metadata": {},
   "outputs": [
    {
     "data": {
      "text/plain": [
       "[1, 3, 5, 7, 9, 11, 13, 15, 17, 19, 21, 23, 25, 27, 29]"
      ]
     },
     "execution_count": 115,
     "metadata": {},
     "output_type": "execute_result"
    }
   ],
   "source": [
    "def odd_num(list):\n",
    "    result = []\n",
    "    for i in list:\n",
    "        if type(i)== int:\n",
    "            if i%2 != 0:\n",
    "                result.append(i)\n",
    "                \n",
    "    return result\n",
    "\n",
    "mixed_list6 = [ i for i in range(30)]\n",
    "odd_num(mixed_list6)"
   ]
  },
  {
   "cell_type": "markdown",
   "metadata": {},
   "source": [
    "### 9.Write a Python program to Remove empty List from List?\n"
   ]
  },
  {
   "cell_type": "code",
   "execution_count": 153,
   "metadata": {},
   "outputs": [
    {
     "name": "stdout",
     "output_type": "stream",
     "text": [
      "the list after removing empty list from the list is: [1, 2, 3, 4, 5, 'bbb', 0]\n"
     ]
    }
   ],
   "source": [
    "def remove_empty_list(lst):\n",
    "    for ele in range(len(lst)):\n",
    "        for i in lst:\n",
    "            if i == []:\n",
    "                lst.remove(i)\n",
    "                    \n",
    "        else:\n",
    "            pass\n",
    "    print('the list after removing empty list from the list is:', lst)\n",
    " \n",
    "\n",
    "\n",
    "mixed_list7 = [1,2,3,4,5,[], 'bbb', [], [],0]\n",
    "remove_empty_list(mixed_list7)\n",
    "\n",
    "        "
   ]
  },
  {
   "cell_type": "markdown",
   "metadata": {},
   "source": [
    "### 10.Write a Python program to Cloning or Copying a list?"
   ]
  },
  {
   "cell_type": "code",
   "execution_count": 154,
   "metadata": {},
   "outputs": [],
   "source": [
    "def Cloning(list):\n",
    "    list_copy = list[:]\n",
    "    return list_copy\n",
    "\n",
    "list1 = [i  for i in range(30) if i%2==0]\n",
    "list2 = Cloning(list1)"
   ]
  },
  {
   "cell_type": "code",
   "execution_count": 155,
   "metadata": {},
   "outputs": [
    {
     "data": {
      "text/plain": [
       "[0, 2, 4, 6, 8, 10, 12, 14, 16, 18, 20, 22, 24, 26, 28]"
      ]
     },
     "execution_count": 155,
     "metadata": {},
     "output_type": "execute_result"
    }
   ],
   "source": [
    "list2"
   ]
  },
  {
   "cell_type": "markdown",
   "metadata": {},
   "source": [
    "### 11.Write a Python program to Count occurrences of an element in a list?\n"
   ]
  },
  {
   "cell_type": "code",
   "execution_count": 151,
   "metadata": {},
   "outputs": [
    {
     "name": "stdout",
     "output_type": "stream",
     "text": [
      "1 has 4 occurrences\n"
     ]
    }
   ],
   "source": [
    "def occur(list, num):\n",
    "    \n",
    "    count = list.count(num)\n",
    "    print(f'{num} has {count} occurrences')\n",
    "\n",
    "\n",
    "mixed_list8 = [0,1,2,1,2,1,6,4,5,4,7,8,45,4,5,6,23,1,4,5,4,5,6,6,87]\n",
    "occur(mixed_list8,1)\n",
    "    \n",
    "    \n",
    "    "
   ]
  },
  {
   "cell_type": "code",
   "execution_count": null,
   "metadata": {},
   "outputs": [],
   "source": []
  }
 ],
 "metadata": {
  "kernelspec": {
   "display_name": "Python 3",
   "language": "python",
   "name": "python3"
  },
  "language_info": {
   "codemirror_mode": {
    "name": "ipython",
    "version": 3
   },
   "file_extension": ".py",
   "mimetype": "text/x-python",
   "name": "python",
   "nbconvert_exporter": "python",
   "pygments_lexer": "ipython3",
   "version": "3.8.3"
  }
 },
 "nbformat": 4,
 "nbformat_minor": 4
}
